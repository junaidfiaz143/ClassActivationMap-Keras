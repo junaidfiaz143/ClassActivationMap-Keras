{
  "nbformat": 4,
  "nbformat_minor": 0,
  "metadata": {
    "colab": {
      "name": "Class_Activation_Map.ipynb",
      "version": "0.3.2",
      "provenance": [],
      "collapsed_sections": []
    },
    "kernelspec": {
      "name": "python3",
      "display_name": "Python 3"
    },
    "accelerator": "GPU"
  },
  "cells": [
    {
      "cell_type": "code",
      "metadata": {
        "id": "2YzSmJ2La9dI",
        "colab_type": "code",
        "colab": {}
      },
      "source": [
        "from google.colab import drive\n",
        "drive.mount('/content/drive')"
      ],
      "execution_count": 0,
      "outputs": []
    },
    {
      "cell_type": "code",
      "metadata": {
        "id": "bRO6Opmra_lB",
        "colab_type": "code",
        "colab": {}
      },
      "source": [
        "import numpy as np\n",
        "import cv2\n",
        "import matplotlib.pyplot as plt\n",
        "import tensorflow.keras as tf\n",
        "import tensorflow.keras.backend as K\n",
        "from tensorflow.keras.preprocessing.image import ImageDataGenerator"
      ],
      "execution_count": 0,
      "outputs": []
    },
    {
      "cell_type": "code",
      "metadata": {
        "id": "kE0SkUfVbciO",
        "colab_type": "code",
        "colab": {}
      },
      "source": [
        "model = tf.models.load_model(\"drive/My Drive/saved_models/chest_xray_model.h5\")"
      ],
      "execution_count": 0,
      "outputs": []
    },
    {
      "cell_type": "code",
      "metadata": {
        "id": "40T2TnyR25_q",
        "colab_type": "code",
        "colab": {}
      },
      "source": [
        "data_gen = ImageDataGenerator()"
      ],
      "execution_count": 0,
      "outputs": []
    },
    {
      "cell_type": "code",
      "metadata": {
        "id": "rSgMstHsepdy",
        "colab_type": "code",
        "colab": {}
      },
      "source": [
        "#preprocessing data (data augmentation)\n",
        "\n",
        "train_data = ImageDataGenerator(\n",
        "    rescale=1./255,\n",
        "    shear_range=0.2,\n",
        "    zoom_range=0.2,\n",
        "    horizontal_flip=True)"
      ],
      "execution_count": 0,
      "outputs": []
    },
    {
      "cell_type": "code",
      "metadata": {
        "id": "GaqmQ4sD28dh",
        "colab_type": "code",
        "outputId": "c3317105-eca6-4933-fda1-40a48916d044",
        "colab": {
          "base_uri": "https://localhost:8080/",
          "height": 34
        }
      },
      "source": [
        "train_data = data_gen.flow_from_directory('drive/My Drive/Data/chest x-ray dataset/chest_xray/train/', target_size=(224, 224), class_mode='binary', batch_size=32)\n",
        "X, y = train_data.next()"
      ],
      "execution_count": 0,
      "outputs": [
        {
          "output_type": "stream",
          "text": [
            "Found 5056 images belonging to 2 classes.\n"
          ],
          "name": "stdout"
        }
      ]
    },
    {
      "cell_type": "code",
      "metadata": {
        "id": "5FwGHiVL2Y9r",
        "colab_type": "code",
        "outputId": "89322ea9-0f0b-4ff7-976c-c217ea7ad57d",
        "colab": {
          "base_uri": "https://localhost:8080/",
          "height": 34
        }
      },
      "source": [
        "print(train_data.class_indices)"
      ],
      "execution_count": 0,
      "outputs": [
        {
          "output_type": "stream",
          "text": [
            "{'NORMAL': 0, 'PNEUMONIA': 1}\n"
          ],
          "name": "stdout"
        }
      ]
    },
    {
      "cell_type": "code",
      "metadata": {
        "id": "xMabI7tWfNXG",
        "colab_type": "code",
        "colab": {}
      },
      "source": [
        "predictions = model.predict(X)"
      ],
      "execution_count": 0,
      "outputs": []
    },
    {
      "cell_type": "code",
      "metadata": {
        "id": "IpQ__4vzgD3A",
        "colab_type": "code",
        "outputId": "e239ba08-0556-4cad-9567-e769c325b7b1",
        "colab": {
          "base_uri": "https://localhost:8080/",
          "height": 561
        }
      },
      "source": [
        "for _y, y_hat in zip(y, predictions):\n",
        "  print(_y, \"-\", y_hat)"
      ],
      "execution_count": 0,
      "outputs": [
        {
          "output_type": "stream",
          "text": [
            "1.0 - [0.98258483]\n",
            "1.0 - [0.9972493]\n",
            "1.0 - [0.93401664]\n",
            "1.0 - [0.97087353]\n",
            "1.0 - [0.9601258]\n",
            "1.0 - [0.9923495]\n",
            "1.0 - [0.9976679]\n",
            "1.0 - [0.7989512]\n",
            "1.0 - [0.9803552]\n",
            "1.0 - [0.99780715]\n",
            "1.0 - [0.78362316]\n",
            "1.0 - [0.99952745]\n",
            "1.0 - [0.99828386]\n",
            "1.0 - [0.6137435]\n",
            "1.0 - [0.9995514]\n",
            "1.0 - [0.9574026]\n",
            "1.0 - [0.974424]\n",
            "0.0 - [0.07204127]\n",
            "1.0 - [0.94708425]\n",
            "1.0 - [0.99997723]\n",
            "1.0 - [0.99999917]\n",
            "1.0 - [0.9978699]\n",
            "1.0 - [0.9916079]\n",
            "1.0 - [0.99997616]\n",
            "1.0 - [0.9974754]\n",
            "1.0 - [0.9953817]\n",
            "1.0 - [0.9974108]\n",
            "1.0 - [0.9818667]\n",
            "1.0 - [0.99083734]\n",
            "1.0 - [0.92592484]\n",
            "1.0 - [0.9800676]\n",
            "1.0 - [0.98584056]\n"
          ],
          "name": "stdout"
        }
      ]
    },
    {
      "cell_type": "code",
      "metadata": {
        "id": "-A-Sm2kYhkBV",
        "colab_type": "code",
        "colab": {}
      },
      "source": [
        "# This is the \"african elephant\" entry in the prediction vector\n",
        "pred = model.output[:, 0]\n",
        "\n",
        "# The is the output feature map of the `block5_conv3` layer,\n",
        "# the last convolutional layer in VGG16\n",
        "last_conv_layer = model.get_layer('conv2d_23')\n",
        "\n",
        "# This is the gradient of the \"african elephant\" class with regard to\n",
        "# the output feature map of `conv2d_23`\n",
        "grads = K.gradients(pred, last_conv_layer.output)[0]\n",
        "\n",
        "# This is a vector of shape (512,), where each entry\n",
        "# is the mean intensity of the gradient over a specific feature map channel\n",
        "pooled_grads = K.mean(grads, axis=(0, 1, 2))\n",
        "\n",
        "# This function allows us to access the values of the quantities we just defined:\n",
        "# `pooled_grads` and the output feature map of `conv2d_23`,\n",
        "# given a sample image\n",
        "iterate = K.function([model.input], [pooled_grads, last_conv_layer.output[0]])\n",
        "\n",
        "# These are the values of these two quantities, as Numpy arrays,\n",
        "# given our sample image\n",
        "pooled_grads_value, conv_layer_output_value = iterate([X])\n",
        "\n",
        "# We multiply each channel in the feature map array\n",
        "# by \"how important this channel is\" with regard to the elephant class\n",
        "for i in range(512):\n",
        "    conv_layer_output_value[:, :, i] *= pooled_grads_value[i]\n",
        "\n",
        "# The channel-wise mean of the resulting feature map\n",
        "# is our heatmap of class activation\n",
        "heatmap = np.mean(conv_layer_output_value, axis=-1)"
      ],
      "execution_count": 0,
      "outputs": []
    },
    {
      "cell_type": "code",
      "metadata": {
        "id": "o7_f-1fkipIQ",
        "colab_type": "code",
        "outputId": "51fa3d8d-7ffb-4547-e026-459a9e0960c9",
        "colab": {
          "base_uri": "https://localhost:8080/",
          "height": 275
        }
      },
      "source": [
        "heatmap = np.maximum(heatmap, 0)\n",
        "heatmap /= np.max(heatmap)\n",
        "plt.matshow(heatmap)\n",
        "plt.show()"
      ],
      "execution_count": 0,
      "outputs": [
        {
          "output_type": "display_data",
          "data": {
            "image/png": "[encoded data removed]",
            "text/plain": [
              "<Figure size 288x288 with 1 Axes>"
            ]
          },
          "metadata": {
            "tags": []
          }
        }
      ]
    },
    {
      "cell_type": "code",
      "metadata": {
        "id": "stYDeEMDby9Z",
        "colab_type": "code",
        "outputId": "fda890de-56c9-450f-d66b-8c333ebd443d",
        "colab": {
          "base_uri": "https://localhost:8080/",
          "height": 323
        }
      },
      "source": [
        "img = \"sample_image.png\"\n",
        "cv2.imwrite(img, X[0])\n",
        "\n",
        "# We use cv2 to load the original image\n",
        "img = cv2.imread(img)\n",
        "\n",
        "# We resize the heatmap to have the same size as the original image\n",
        "heatmap = cv2.resize(heatmap, (img.shape[1], img.shape[0]))\n",
        "\n",
        "# We convert the heatmap to RGB\n",
        "heatmap = np.uint8(255 * heatmap)\n",
        "\n",
        "# We apply the heatmap to the original image\n",
        "heatmap = cv2.applyColorMap(heatmap, cv2.COLORMAP_JET)\n",
        "\n",
        "# 0.4 here is a heatmap intensity factor\n",
        "superimposed_img = heatmap * 0.4 + img\n",
        "\n",
        "plt.imshow(superimposed_img)\n",
        "cv2.imwrite(\"heat_map.png\", superimposed_img)"
      ],
      "execution_count": 0,
      "outputs": [
        {
          "output_type": "stream",
          "text": [
            "W0722 22:48:10.568241 140544042235776 image.py:648] Clipping input data to the valid range for imshow with RGB data ([0..1] for floats or [0..255] for integers).\n"
          ],
          "name": "stderr"
        },
        {
          "output_type": "execute_result",
          "data": {
            "text/plain": [
              "True"
            ]
          },
          "metadata": {
            "tags": []
          },
          "execution_count": 179
        },
        {
          "output_type": "display_data",
          "data": {
            "image/png": "[encoded data removed]",
            "text/plain": [
              "<Figure size 432x288 with 1 Axes>"
            ]
          },
          "metadata": {
            "tags": []
          }
        }
      ]
    },
    {
      "cell_type": "code",
      "metadata": {
        "id": "Iclb6jxajz_f",
        "colab_type": "code",
        "outputId": "353eb5e2-92d8-46da-b1da-a5d57d97c48c",
        "colab": {
          "base_uri": "https://localhost:8080/",
          "height": 544
        }
      },
      "source": [
        "# getting all layer names\n",
        "for layer in model.layers:\n",
        "    print(layer.name)"
      ],
      "execution_count": 0,
      "outputs": [
        {
          "output_type": "stream",
          "text": [
            "Conv_Layer_1\n",
            "conv2d_12\n",
            "max_pooling2d_5\n",
            "dropout_8\n",
            "conv2d_13\n",
            "conv2d_14\n",
            "max_pooling2d_6\n",
            "dropout_9\n",
            "conv2d_15\n",
            "conv2d_16\n",
            "conv2d_17\n",
            "max_pooling2d_7\n",
            "dropout_10\n",
            "conv2d_18\n",
            "conv2d_19\n",
            "conv2d_20\n",
            "max_pooling2d_8\n",
            "dropout_11\n",
            "conv2d_21\n",
            "conv2d_22\n",
            "conv2d_23\n",
            "max_pooling2d_9\n",
            "dropout_12\n",
            "flatten_1\n",
            "dense_4\n",
            "dropout_13\n",
            "dense_5\n",
            "dropout_14\n",
            "dense_6\n",
            "dropout_15\n",
            "dense_7\n"
          ],
          "name": "stdout"
        }
      ]
    },
    {
      "cell_type": "code",
      "metadata": {
        "id": "43WwmDCC2Tjf",
        "colab_type": "code",
        "outputId": "8e97e27d-dd3c-4564-d5dc-ddcda4ab0691",
        "colab": {
          "base_uri": "https://localhost:8080/",
          "height": 156
        }
      },
      "source": [
        "# from tensorflow import lite\n",
        "# converter = lite.TFLiteConverter.from_keras_model_file(\"drive/My Drive/saved_models/chest_xray_model.h5\")\n",
        "# tfmodel = converter.convert()\n",
        "# open (\"model.tflite\" , \"wb\") .write(tfmodel)"
      ],
      "execution_count": 0,
      "outputs": [
        {
          "output_type": "stream",
          "text": [
            "W0722 23:56:59.488793 140544042235776 deprecation.py:323] From /usr/local/lib/python3.6/dist-packages/tensorflow/lite/python/util.py:238: convert_variables_to_constants (from tensorflow.python.framework.graph_util_impl) is deprecated and will be removed in a future version.\n",
            "Instructions for updating:\n",
            "Use `tf.compat.v1.graph_util.convert_variables_to_constants`\n",
            "W0722 23:56:59.490248 140544042235776 deprecation.py:323] From /usr/local/lib/python3.6/dist-packages/tensorflow/python/framework/graph_util_impl.py:270: extract_sub_graph (from tensorflow.python.framework.graph_util_impl) is deprecated and will be removed in a future version.\n",
            "Instructions for updating:\n",
            "Use `tf.compat.v1.graph_util.extract_sub_graph`\n"
          ],
          "name": "stderr"
        },
        {
          "output_type": "execute_result",
          "data": {
            "text/plain": [
              "164255648"
            ]
          },
          "metadata": {
            "tags": []
          },
          "execution_count": 189
        }
      ]
    },
    {
      "cell_type": "code",
      "metadata": {
        "id": "8zx7eE0SGWSp",
        "colab_type": "code",
        "outputId": "840de9a0-2e3c-41e8-f6b2-fb3ab3e01298",
        "colab": {
          "base_uri": "https://localhost:8080/",
          "height": 85
        }
      },
      "source": [
        "import tensorflow as tf\n",
        "import numpy as np\n",
        "\n",
        "interpreter = tf.lite.Interpreter(model_path=\"model.tflite\")\n",
        "interpreter.allocate_tensors()\n",
        "\n",
        "print(interpreter.get_input_details()[0]['shape'])  \n",
        "print(interpreter.get_input_details()[0]['dtype']) \n",
        "\n",
        "print(interpreter.get_output_details()[0]['shape'])  \n",
        "print(interpreter.get_output_details()[0]['dtype']) "
      ],
      "execution_count": 0,
      "outputs": [
        {
          "output_type": "stream",
          "text": [
            "[  1 224 224   3]\n",
            "<class 'numpy.float32'>\n",
            "[1 1]\n",
            "<class 'numpy.float32'>\n"
          ],
          "name": "stdout"
        }
      ]
    },
    {
      "cell_type": "code",
      "metadata": {
        "id": "HTTzbUN6T1lm",
        "colab_type": "code",
        "colab": {}
      },
      "source": [
        ""
      ],
      "execution_count": 0,
      "outputs": []
    }
  ]
}